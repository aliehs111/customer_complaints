{
 "cells": [
  {
   "cell_type": "code",
   "execution_count": 6,
   "id": "c6906377-2e98-4d38-ad9b-332f78e84b1d",
   "metadata": {},
   "outputs": [
    {
     "data": {
      "text/html": [
       "<div>\n",
       "<style scoped>\n",
       "    .dataframe tbody tr th:only-of-type {\n",
       "        vertical-align: middle;\n",
       "    }\n",
       "\n",
       "    .dataframe tbody tr th {\n",
       "        vertical-align: top;\n",
       "    }\n",
       "\n",
       "    .dataframe thead th {\n",
       "        text-align: right;\n",
       "    }\n",
       "</style>\n",
       "<table border=\"1\" class=\"dataframe\">\n",
       "  <thead>\n",
       "    <tr style=\"text-align: right;\">\n",
       "      <th></th>\n",
       "      <th>Complaint ID</th>\n",
       "      <th>Date Received</th>\n",
       "      <th>Banking Product</th>\n",
       "      <th>Issue ID</th>\n",
       "      <th>Complaint Description</th>\n",
       "      <th>State</th>\n",
       "      <th>ZIP</th>\n",
       "      <th>Bank Response</th>\n",
       "    </tr>\n",
       "  </thead>\n",
       "  <tbody>\n",
       "    <tr>\n",
       "      <th>0</th>\n",
       "      <td>CID76118977</td>\n",
       "      <td>1/1/2023</td>\n",
       "      <td>Checking or savings account</td>\n",
       "      <td>I_3510635</td>\n",
       "      <td>on XX/XX/XX22 I opened a safe balance account ...</td>\n",
       "      <td>California</td>\n",
       "      <td>92311</td>\n",
       "      <td>Closed with monetary relief</td>\n",
       "    </tr>\n",
       "    <tr>\n",
       "      <th>1</th>\n",
       "      <td>CID98703933</td>\n",
       "      <td>1/1/2023</td>\n",
       "      <td>Credit reporting, credit repair services, or o...</td>\n",
       "      <td>I_3798538</td>\n",
       "      <td>There is an item from Bank of ABC on my credit...</td>\n",
       "      <td>California</td>\n",
       "      <td>91344</td>\n",
       "      <td>Closed with explanation</td>\n",
       "    </tr>\n",
       "    <tr>\n",
       "      <th>2</th>\n",
       "      <td>CID52036665</td>\n",
       "      <td>1/1/2023</td>\n",
       "      <td>Checking or savings account</td>\n",
       "      <td>I_3648593</td>\n",
       "      <td>On XX/XX/XX22 I found out that my account was ...</td>\n",
       "      <td>New York</td>\n",
       "      <td>10466</td>\n",
       "      <td>Closed with monetary relief</td>\n",
       "    </tr>\n",
       "    <tr>\n",
       "      <th>3</th>\n",
       "      <td>CID62581335</td>\n",
       "      <td>1/1/2023</td>\n",
       "      <td>Credit card or prepaid card</td>\n",
       "      <td>I_6999080</td>\n",
       "      <td>I've had a credit card for years with Bank of ...</td>\n",
       "      <td>California</td>\n",
       "      <td>92127</td>\n",
       "      <td>Closed with monetary relief</td>\n",
       "    </tr>\n",
       "    <tr>\n",
       "      <th>4</th>\n",
       "      <td>CID65731164</td>\n",
       "      <td>1/1/2023</td>\n",
       "      <td>Checking or savings account</td>\n",
       "      <td>I_3648593</td>\n",
       "      <td>This issue has to do with the way that Bank of...</td>\n",
       "      <td>New Jersey</td>\n",
       "      <td>7946</td>\n",
       "      <td>Closed with explanation</td>\n",
       "    </tr>\n",
       "  </tbody>\n",
       "</table>\n",
       "</div>"
      ],
      "text/plain": [
       "  Complaint ID Date Received  \\\n",
       "0  CID76118977      1/1/2023   \n",
       "1  CID98703933      1/1/2023   \n",
       "2  CID52036665      1/1/2023   \n",
       "3  CID62581335      1/1/2023   \n",
       "4  CID65731164      1/1/2023   \n",
       "\n",
       "                                     Banking Product   Issue ID  \\\n",
       "0                        Checking or savings account  I_3510635   \n",
       "1  Credit reporting, credit repair services, or o...  I_3798538   \n",
       "2                        Checking or savings account  I_3648593   \n",
       "3                        Credit card or prepaid card  I_6999080   \n",
       "4                        Checking or savings account  I_3648593   \n",
       "\n",
       "                               Complaint Description       State    ZIP  \\\n",
       "0  on XX/XX/XX22 I opened a safe balance account ...  California  92311   \n",
       "1  There is an item from Bank of ABC on my credit...  California  91344   \n",
       "2  On XX/XX/XX22 I found out that my account was ...    New York  10466   \n",
       "3  I've had a credit card for years with Bank of ...  California  92127   \n",
       "4  This issue has to do with the way that Bank of...  New Jersey   7946   \n",
       "\n",
       "                 Bank Response  \n",
       "0  Closed with monetary relief  \n",
       "1      Closed with explanation  \n",
       "2  Closed with monetary relief  \n",
       "3  Closed with monetary relief  \n",
       "4      Closed with explanation  "
      ]
     },
     "execution_count": 6,
     "metadata": {},
     "output_type": "execute_result"
    }
   ],
   "source": [
    "import sys\n",
    "from pathlib import Path\n",
    "import pandas as pd\n",
    "\n",
    "# 1. Compute project root (one level up from notebooks/)\n",
    "project_root = Path.cwd().parent\n",
    "\n",
    "# 2. Make src/ importable\n",
    "sys.path.insert(0, str(project_root / \"src\"))\n",
    "\n",
    "# 3. Define where your data lives\n",
    "data_dir = project_root / \"data\"\n",
    "\n",
    "# 4. Read your CSV\n",
    "df = pd.read_csv(data_dir / \"banking_complaints.csv\")\n",
    "df.head()\n"
   ]
  },
  {
   "cell_type": "code",
   "execution_count": 8,
   "id": "c82cc634-8a19-4451-8261-21b87a545f79",
   "metadata": {},
   "outputs": [
    {
     "name": "stderr",
     "output_type": "stream",
     "text": [
      "[nltk_data] Downloading package stopwords to\n",
      "[nltk_data]     /Users/sheilamcgovern/nltk_data...\n",
      "[nltk_data]   Unzipping corpora/stopwords.zip.\n",
      "[nltk_data] Downloading package wordnet to\n",
      "[nltk_data]     /Users/sheilamcgovern/nltk_data...\n",
      "[nltk_data] Downloading package omw-1.4 to\n",
      "[nltk_data]     /Users/sheilamcgovern/nltk_data...\n"
     ]
    },
    {
     "data": {
      "text/plain": [
       "True"
      ]
     },
     "execution_count": 8,
     "metadata": {},
     "output_type": "execute_result"
    }
   ],
   "source": [
    "# Cell 2: Download NLTK data (one-time)\n",
    "import nltk\n",
    "\n",
    "# Stopwords for filtering, WordNet + omw for lemmatization\n",
    "nltk.download(\"stopwords\")\n",
    "nltk.download(\"wordnet\")\n",
    "nltk.download(\"omw-1.4\")\n"
   ]
  },
  {
   "cell_type": "code",
   "execution_count": null,
   "id": "db7fb3f4-ae9e-4f2e-9eec-50d09b06a85d",
   "metadata": {},
   "outputs": [
    {
     "name": "stdout",
     "output_type": "stream",
     "text": [
      "Complaint ID             object\n",
      "Date Received            object\n",
      "Banking Product          object\n",
      "Issue ID                 object\n",
      "Complaint Description    object\n",
      "State                    object\n",
      "ZIP                      object\n",
      "Bank Response            object\n",
      "dtype: object\n",
      "\n",
      "Missing values per column:\n",
      "Complaint ID              0\n",
      "Date Received             0\n",
      "Banking Product           0\n",
      "Issue ID                  0\n",
      "Complaint Description     0\n",
      "State                    27\n",
      "ZIP                      30\n",
      "Bank Response             0\n",
      "dtype: int64\n"
     ]
    }
   ],
   "source": [
    "from data_utils import load_data, check_types\n",
    "from preprocess   import preprocessing\n",
    "\n",
    "df = load_data(project_root/\"data\"/\"banking_complaints.csv\")\n",
    "\n",
    "# check types & missing\n",
    "check_types(df)\n",
    "\n",
    "# apply preprocessing to the complaint text\n",
    "df['cleaned_description'] = df['Complaint Description'].fillna(\"\").apply(preprocessing)\n",
    "df[['Complaint Description','cleaned_description']].head()\n"
   ]
  },
  {
   "cell_type": "code",
   "execution_count": null,
   "id": "70108ba7-a309-4153-99e7-55ee78a482ce",
   "metadata": {},
   "outputs": [],
   "source": [
    "# 4: Convert Date Received to datetime\n",
    "df['Date Received'] = pd.to_datetime(df['Date Received'], errors='coerce')\n",
    "\n",
    "# 5: Check the conversion\n",
    "print(df['Date Received'].dtype)\n",
    "print(\"Date range:\", df['Date Received'].min(), \"→\", df['Date Received'].max())\n"
   ]
  },
  {
   "cell_type": "code",
   "execution_count": null,
   "id": "4feb6e55-f08c-46e5-91da-a8896de80d17",
   "metadata": {},
   "outputs": [],
   "source": []
  }
 ],
 "metadata": {
  "kernelspec": {
   "display_name": "Python 3 (ipykernel)",
   "language": "python",
   "name": "python3"
  },
  "language_info": {
   "codemirror_mode": {
    "name": "ipython",
    "version": 3
   },
   "file_extension": ".py",
   "mimetype": "text/x-python",
   "name": "python",
   "nbconvert_exporter": "python",
   "pygments_lexer": "ipython3",
   "version": "3.11.13"
  }
 },
 "nbformat": 4,
 "nbformat_minor": 5
}
