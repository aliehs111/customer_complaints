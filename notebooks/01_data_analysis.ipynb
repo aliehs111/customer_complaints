{
 "cells": [
  {
   "cell_type": "code",
   "execution_count": null,
   "id": "c6906377-2e98-4d38-ad9b-332f78e84b1d",
   "metadata": {},
   "outputs": [],
   "source": [
    "import sys\n",
    "from pathlib import Path\n",
    "import pandas as pd\n",
    "\n",
    "# 1. Compute project root (one level up from notebooks/)\n",
    "project_root = Path.cwd().parent\n",
    "\n",
    "# 2. Make src/ importable\n",
    "sys.path.insert(0, str(project_root / \"src\"))\n",
    "\n",
    "# 3. Define where your data lives\n",
    "data_dir = project_root / \"data\"\n",
    "\n",
    "# 4. Read your CSV\n",
    "df = pd.read_csv(data_dir / \"banking_complaints.csv\")\n",
    "df.head()\n"
   ]
  },
  {
   "cell_type": "code",
   "execution_count": null,
   "id": "17838e2e-d463-4c32-9825-97e8b36a0a41",
   "metadata": {},
   "outputs": [],
   "source": [
    "import pandas as pd\n",
    "\n",
    "# 1. Load the CSV\n",
    "df = pd.read_csv(\"banking_complaints.csv\")  \n",
    "df.head()"
   ]
  }
 ],
 "metadata": {
  "kernelspec": {
   "display_name": "Python 3 (ipykernel)",
   "language": "python",
   "name": "python3"
  },
  "language_info": {
   "codemirror_mode": {
    "name": "ipython",
    "version": 3
   },
   "file_extension": ".py",
   "mimetype": "text/x-python",
   "name": "python",
   "nbconvert_exporter": "python",
   "pygments_lexer": "ipython3",
   "version": "3.11.13"
  }
 },
 "nbformat": 4,
 "nbformat_minor": 5
}
